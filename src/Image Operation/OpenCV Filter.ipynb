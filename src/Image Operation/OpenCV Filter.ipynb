{
 "cells": [
  {
   "cell_type": "code",
   "execution_count": null,
   "metadata": {},
   "outputs": [],
   "source": [
    "import numpy as np\n",
    "import cv2\n",
    "\n",
    "img = cv2.imread('perspective.jpg',0)\n",
    "\n",
    "pts1 = np.float32([[28,30],[181,25],[13,190],[193,190]])\n",
    "pts2 = np.float32([[0,0],[300,0],[0,300],[300,300]])\n",
    "\n",
    "M = cv2.getPerspectiveTransform(pts1,pts2)\n",
    "img = cv2.warpPerspective(img,M,(300,300))\n",
    "\n",
    "img = cv2.Canny(img,100,200)\n",
    "\n",
    "\n",
    "cv2.imshow('img',img)\n",
    "cv2.waitKey(0)\n",
    "cv2.destroyAllWindows()"
   ]
  },
  {
   "cell_type": "code",
   "execution_count": 2,
   "metadata": {},
   "outputs": [
    {
     "data": {
      "text/plain": [
       "<Figure size 640x480 with 4 Axes>"
      ]
     },
     "metadata": {},
     "output_type": "display_data"
    }
   ],
   "source": [
    "import cv2 as cv\n",
    "import numpy as np\n",
    "from matplotlib import pyplot as plt\n",
    "img = cv.imread('perspective.jpg',0)\n",
    "img = cv.medianBlur(img,5)\n",
    "ret,th1 = cv.threshold(img,127,255,cv.THRESH_BINARY)\n",
    "th2 = cv.adaptiveThreshold(img,255,cv.ADAPTIVE_THRESH_MEAN_C,\\\n",
    "            cv.THRESH_BINARY,11,2)\n",
    "th3 = cv.adaptiveThreshold(img,255,cv.ADAPTIVE_THRESH_GAUSSIAN_C,\\\n",
    "            cv.THRESH_BINARY,11,2)\n",
    "titles = ['Original Image', 'Global Thresholding (v = 127)',\n",
    "            'Adaptive Mean Thresholding', 'Adaptive Gaussian Thresholding']\n",
    "images = [img, th1, th2, th3]\n",
    "for i in range(4):\n",
    "    plt.subplot(2,2,i+1),plt.imshow(images[i],'gray')\n",
    "    plt.title(titles[i])\n",
    "    plt.xticks([]),plt.yticks([])\n",
    "plt.show()"
   ]
  },
  {
   "cell_type": "code",
   "execution_count": 3,
   "metadata": {},
   "outputs": [],
   "source": [
    "import numpy as np\n",
    "import cv2 as cv\n",
    "\n",
    "filename = 'DSC_0480.JPG'\n",
    "img = cv.imread(filename)\n",
    "gray = cv.cvtColor(img,cv.COLOR_BGR2GRAY)\n",
    "gray = np.float32(gray)\n",
    "dst = cv.cornerHarris(gray,2,3,0.04)\n",
    "#result is dilated for marking the corners, not important\n",
    "dst = cv.dilate(dst,None)\n",
    "# Threshold for an optimal value, it may vary depending on the image.\n",
    "img[dst>0.01*dst.max()]=[0,0,255]\n",
    "cv.imshow('dst',img)\n",
    "if cv.waitKey(0) & 0xff == 27:\n",
    "    cv.destroyAllWindows()"
   ]
  },
  {
   "cell_type": "code",
   "execution_count": null,
   "metadata": {},
   "outputs": [],
   "source": []
  },
  {
   "cell_type": "code",
   "execution_count": 4,
   "metadata": {},
   "outputs": [],
   "source": [
    "import cv2\n",
    "import numpy as np\n",
    "\n",
    "cap = cv2.VideoCapture(0)\n",
    "while(1):\n",
    "    _, frame = cap.read()\n",
    "    orignal = frame.copy()\n",
    "    \n",
    "    \"\"\"\"\n",
    "    lower_blue = np.array([0,50,50])\n",
    "    upper_blue = np.array([130,255,255])\n",
    "    \n",
    "    hsv = cv2.cvtColor(frame, cv2.COLOR_BGR2HSV)\n",
    "    mask = cv2.inRange(hsv, lower_blue, upper_blue)\n",
    "\n",
    "    # Bitwise-AND mask and original image\n",
    "    frame = cv2.bitwise_and(frame,frame, mask= mask)\n",
    "    \"\"\"\n",
    "    \n",
    "    frame = cv2.blur(frame,(40,40))\n",
    "    \n",
    "    \n",
    "    cv2.imshow('frame1',frame)\n",
    "    \n",
    "    b = frame[:, :, 0]\n",
    "    g = frame[:, :, 1]\n",
    "    r = frame[:, :, 2]\n",
    "    \n",
    "    cv2.imshow('frame2',r)\n",
    "    cv2.imshow('frame3',g)\n",
    "    cv2.imshow('frame4',b)\n",
    "    \n",
    "    max_chanel = np.maximum(r.copy(), np.maximum(g.copy(), b.copy()))\n",
    "    \n",
    "    b = np.array(b == max_chanel, dtype=int)\n",
    "    g = np.array(g == max_chanel, dtype=int)\n",
    "    r = np.array(r == max_chanel, dtype=int)\n",
    "\n",
    "    b[b == 1] = 255\n",
    "    g[g == 1] = 255\n",
    "    r[r == 1] = 255\n",
    "    \n",
    "    frame[:, :, 0] = b\n",
    "    frame[:, :, 1] = g\n",
    "    frame[:, :, 2] = r\n",
    "    \n",
    "    cv2.imshow('frame5',frame)\n",
    "    \n",
    "    frame = cv2.medianBlur(frame,15)\n",
    "    frame = cv2.Canny(frame,100, 200)\n",
    "    \n",
    "    \n",
    "    rows, cols = np.where(frame == 255)\n",
    "    for i,j in zip(rows, cols):\n",
    "        orignal[i][j] = [255, 0, 0]\n",
    "    \n",
    "\n",
    "#     print(frame.shape)\n",
    "#     print(orignal.shape)\n",
    "    cv2.imshow('frame6',frame)\n",
    "    cv2.imshow('frame7',orignal)\n",
    "\n",
    "    k = cv2.waitKey(5) & 0xFF\n",
    "    if k == 27:\n",
    "        break\n",
    "\n",
    "cv2.destroyAllWindows()\n",
    "cap.release()"
   ]
  },
  {
   "cell_type": "code",
   "execution_count": 7,
   "metadata": {},
   "outputs": [],
   "source": [
    "cap.release()"
   ]
  },
  {
   "cell_type": "code",
   "execution_count": 6,
   "metadata": {},
   "outputs": [
    {
     "name": "stdout",
     "output_type": "stream",
     "text": [
      "[[[0.43385525 0.86277201 0.03682685]\n",
      "  [0.66794925 0.07158107 0.68908011]]]\n",
      "[0.1 0.2 0.3]\n",
      "[[[0.43385525 0.86277201 0.3       ]\n",
      "  [0.66794925 0.2        0.68908011]]]\n"
     ]
    }
   ],
   "source": [
    "A = np.random.rand(1,2,3)\n",
    "# array([[[ 0.79188   ,  0.32707664,  0.18386629],\n",
    "#         [ 0.4139146 ,  0.07259663,  0.47604274]]])\n",
    "\n",
    "B = np.array([0.1, 0.2, 0.3])\n",
    "\n",
    "C = np.maximum(A, B)\n",
    "# array([[[ 0.1       ,  0.2       ,  0.18386629],\n",
    "#         [ 0.1       ,  0.07259663,  0.3       ]]])\n",
    "print(A)\n",
    "print(B)\n",
    "print(C)"
   ]
  },
  {
   "cell_type": "code",
   "execution_count": null,
   "metadata": {},
   "outputs": [],
   "source": []
  },
  {
   "cell_type": "code",
   "execution_count": null,
   "metadata": {},
   "outputs": [],
   "source": []
  },
  {
   "cell_type": "code",
   "execution_count": null,
   "metadata": {},
   "outputs": [],
   "source": []
  }
 ],
 "metadata": {
  "kernelspec": {
   "display_name": "Python 3",
   "language": "python",
   "name": "python3"
  },
  "language_info": {
   "codemirror_mode": {
    "name": "ipython",
    "version": 3
   },
   "file_extension": ".py",
   "mimetype": "text/x-python",
   "name": "python",
   "nbconvert_exporter": "python",
   "pygments_lexer": "ipython3",
   "version": "3.6.7"
  }
 },
 "nbformat": 4,
 "nbformat_minor": 2
}
